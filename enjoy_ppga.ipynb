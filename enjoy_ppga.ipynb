{
 "cells": [
  {
   "cell_type": "code",
   "execution_count": 1,
   "metadata": {
    "ExecuteTime": {
     "end_time": "2023-04-19T09:58:06.239294Z",
     "start_time": "2023-04-19T09:58:06.233864Z"
    },
    "collapsed": true
   },
   "outputs": [],
   "source": [
    "import os\n",
    "from pathlib import Path\n",
    "# project_root = os.path.join(str(Path.home()), 'PPGA')\n",
    "# os.chdir(project_root)\n",
    "# %pwd # should be PPGA root dir"
   ]
  },
  {
   "cell_type": "code",
   "execution_count": 2,
   "metadata": {
    "ExecuteTime": {
     "end_time": "2023-04-19T09:58:08.429948Z",
     "start_time": "2023-04-19T09:58:06.234245Z"
    },
    "collapsed": false
   },
   "outputs": [
    {
     "name": "stderr",
     "output_type": "stream",
     "text": [
      "/home/xingrui/miniconda3/envs/ppga/lib/python3.9/site-packages/tqdm/auto.py:21: TqdmWarning: IProgress not found. Please update jupyter and ipywidgets. See https://ipywidgets.readthedocs.io/en/stable/user_install.html\n",
      "  from .autonotebook import tqdm as notebook_tqdm\n"
     ]
    }
   ],
   "source": [
    "import pickle\n",
    "\n",
    "import numpy as np\n",
    "from attrdict import AttrDict\n",
    "from RL.ppo import *\n",
    "from utils.utilities import log\n",
    "from envs.brax_custom.brax_env import make_vec_env_brax\n",
    "from models.actor_critic import Actor, PGAMEActor\n",
    "from pandas import DataFrame\n",
    "\n",
    "from IPython.display import HTML, Image\n",
    "from IPython.display import display\n",
    "from brax.io import html, image"
   ]
  },
  {
   "cell_type": "code",
   "execution_count": 3,
   "metadata": {
    "ExecuteTime": {
     "end_time": "2023-04-19T09:58:08.434682Z",
     "start_time": "2023-04-19T09:58:08.430496Z"
    },
    "collapsed": false
   },
   "outputs": [],
   "source": [
    "# params to config\n",
    "device = torch.device('cuda')\n",
    "env_name = 'humanoid'\n",
    "# env_name = 'ant'\n",
    "# env_name = 'walker2d'\n",
    "if env_name == 'humanoid':\n",
    "    clip_obs_rew = True\n",
    "else:\n",
    "    clip_obs_rew = False\n",
    "seed = 1111\n",
    "normalize_obs = True\n",
    "normalize_rewards = True\n",
    "# non-configurable params\n",
    "obs_shapes = {\n",
    "    'humanoid': (227,),\n",
    "    'ant': (87,),\n",
    "    'halfcheetah': (18,),\n",
    "    'walker2d': (17,)\n",
    "}\n",
    "action_shapes = {\n",
    "    'humanoid': (17,),\n",
    "    'ant': (8,),\n",
    "    'halfcheetah': (6,),\n",
    "    'walker2d': (6,)\n",
    "}\n",
    "\n",
    "# define the final config objects\n",
    "actor_cfg = AttrDict({\n",
    "        'obs_shape': obs_shapes[env_name],\n",
    "        'action_shape': action_shapes[env_name],\n",
    "        'normalize_obs': normalize_obs,\n",
    "        'normalize_rewards': normalize_rewards,\n",
    "})\n",
    "env_cfg = AttrDict({\n",
    "        'env_name': env_name,\n",
    "        'env_batch_size': None,\n",
    "        'num_dims': 2 if not 'ant' in env_name else 4,\n",
    "        'envs_per_model': 1,\n",
    "        'seed': seed,\n",
    "        'num_envs': 1,\n",
    "        'clip_obs_rew': clip_obs_rew\n",
    "})\n"
   ]
  },
  {
   "cell_type": "code",
   "execution_count": 4,
   "metadata": {
    "ExecuteTime": {
     "end_time": "2023-04-18T10:24:43.868494Z",
     "start_time": "2023-04-18T10:24:40.275221Z"
    },
    "collapsed": false
   },
   "outputs": [
    {
     "name": "stderr",
     "output_type": "stream",
     "text": [
      "WARNING:ray:Package pickle5 becomes unnecessary in Python 3.8 and above. Its presence may confuse libraries including Ray. Please uninstall the package.\n"
     ]
    }
   ],
   "source": [
    "# now lets load in a saved archive dataframe and scheduler\n",
    "# change this to be your own checkpoint path\n",
    "archive_path = f'experiments/paper_ppga_{env_name}/1111/checkpoints/cp_00002000/archive_df_00002000.pkl'\n",
    "scheduler_path = f'experiments/paper_ppga_{env_name}/1111/checkpoints/cp_00002000/scheduler_00002000.pkl'\n",
    "with open(archive_path, 'rb') as f:\n",
    "    archive_df = pickle.load(f)\n",
    "with open(scheduler_path, 'rb') as f:\n",
    "    scheduler = pickle.load(f)"
   ]
  },
  {
   "cell_type": "code",
   "execution_count": 5,
   "metadata": {
    "ExecuteTime": {
     "end_time": "2023-04-18T10:24:44.260631Z",
     "start_time": "2023-04-18T10:24:43.877330Z"
    },
    "collapsed": false
   },
   "outputs": [],
   "source": [
    "# create the environment\n",
    "env = make_vec_env_brax(env_cfg)"
   ]
  },
  {
   "cell_type": "code",
   "execution_count": 6,
   "metadata": {
    "ExecuteTime": {
     "end_time": "2023-04-18T10:27:59.679558Z",
     "start_time": "2023-04-18T10:27:59.639211Z"
    },
    "collapsed": false
   },
   "outputs": [],
   "source": [
    "def get_best_elite():\n",
    "    best_elite = scheduler.archive.best_elite\n",
    "    print(f'Loading agent with reward {best_elite.objective} and measures {best_elite.measures}')\n",
    "    agent = Actor(obs_shape=actor_cfg.obs_shape[0], action_shape=actor_cfg.action_shape, normalize_obs=normalize_obs, normalize_returns=normalize_rewards).deserialize(best_elite.solution).to(device)\n",
    "    if actor_cfg.normalize_obs:\n",
    "        norm = best_elite.metadata['obs_normalizer']\n",
    "        if isinstance(norm, dict):\n",
    "            agent.obs_normalizer.load_state_dict(norm)\n",
    "        else:\n",
    "            agent.obs_normalizer = norm\n",
    "    return agent"
   ]
  },
  {
   "cell_type": "code",
   "execution_count": 7,
   "metadata": {
    "ExecuteTime": {
     "end_time": "2023-04-19T09:58:18.549041Z",
     "start_time": "2023-04-19T09:58:18.545285Z"
    },
    "collapsed": false
   },
   "outputs": [],
   "source": [
    "def get_random_elite():\n",
    "    elite = scheduler.archive.sample_elites(1)\n",
    "    print(f'Loading agent with reward {elite.objective_batch[0]} and measures {elite.measures_batch[0]}')\n",
    "    agent = Actor(obs_shape=actor_cfg.obs_shape[0], action_shape=actor_cfg.action_shape, normalize_obs=normalize_obs, normalize_returns=normalize_rewards).deserialize(elite.solution_batch.flatten()).to(device)\n",
    "    if actor_cfg.normalize_obs:\n",
    "        norm = elite.metadata_batch[0]['obs_normalizer']\n",
    "        if isinstance(norm, dict):\n",
    "            agent.obs_normalizer.load_state_dict(norm)\n",
    "        else:\n",
    "            agent.obs_normalizer = norm\n",
    "    return agent"
   ]
  },
  {
   "cell_type": "code",
   "execution_count": 8,
   "metadata": {
    "ExecuteTime": {
     "end_time": "2023-04-19T09:58:21.970574Z",
     "start_time": "2023-04-19T09:58:21.969141Z"
    },
    "collapsed": false
   },
   "outputs": [],
   "source": [
    "def enjoy_brax(agent, render=True, deterministic=True):\n",
    "    if actor_cfg.normalize_obs:\n",
    "        obs_mean, obs_var = agent.obs_normalizer.obs_rms.mean, agent.obs_normalizer.obs_rms.var\n",
    "        print(f'{obs_mean=}, {obs_var=}')\n",
    "\n",
    "    obs = env.reset()\n",
    "    rollout = [env.unwrapped._state]\n",
    "    total_reward = 0\n",
    "    measures = torch.zeros(env_cfg.num_dims).to(device)\n",
    "    done = False\n",
    "    while not done:\n",
    "        with torch.no_grad():\n",
    "            obs = obs.unsqueeze(dim=0).to(device)\n",
    "            if actor_cfg.normalize_obs:\n",
    "                obs = (obs - obs_mean) / torch.sqrt(obs_var + 1e-8)\n",
    "\n",
    "            if deterministic:\n",
    "                act = agent.actor_mean(obs)\n",
    "            else:\n",
    "                act, _, _ = agent.get_action(obs)\n",
    "            act = act.squeeze()\n",
    "            obs, rew, done, info = env.step(act.cpu())\n",
    "            measures += info['measures']\n",
    "            rollout.append(env.unwrapped._state)\n",
    "            total_reward += rew\n",
    "    if render:\n",
    "        i = HTML(html.render(env.unwrapped._env.sys, [s.qp for s in rollout]))\n",
    "        display(i)\n",
    "        print(f'{total_reward=}')\n",
    "        print(f' Rollout length: {len(rollout)}')\n",
    "        measures /= len(rollout)\n",
    "        print(f'Measures: {measures.cpu().numpy()}')\n",
    "    return total_reward.detach().cpu().numpy()"
   ]
  },
  {
   "cell_type": "code",
   "execution_count": 9,
   "metadata": {
    "ExecuteTime": {
     "end_time": "2023-04-18T10:33:11.702148Z",
     "start_time": "2023-04-18T10:33:11.637104Z"
    },
    "collapsed": false
   },
   "outputs": [
    {
     "name": "stdout",
     "output_type": "stream",
     "text": [
      "Loading agent with reward 9690.89494960308 and measures [0.39760002 0.0024    ]\n",
      "obs_mean=tensor([ 1.1482e+00,  9.8074e-01,  3.7447e-02,  2.5846e-02,  1.1774e-01,\n",
      "        -1.9406e-01, -9.7953e-01, -9.7296e-01, -1.8796e-01,  1.0204e-01,\n",
      "        -2.0870e-01, -6.1069e-01, -4.8137e-01, -2.7638e-01,  9.7254e-02,\n",
      "        -3.1377e-01, -1.8911e-02, -2.7416e-02,  3.7872e-02, -3.6199e-02,\n",
      "         3.5579e-01, -5.5705e-03,  3.8614e+00, -8.5031e-02, -6.5890e-02,\n",
      "         2.0613e-04, -1.3888e-02,  6.1461e-02,  5.4298e-03,  2.8808e-02,\n",
      "         5.2689e-03, -3.4796e-03, -4.5653e-02,  1.1099e-02, -7.2064e-03,\n",
      "         2.7921e-04, -1.2132e-02, -4.1929e-03,  8.5052e-02, -7.1529e-02,\n",
      "         7.8380e-03,  4.9258e-02, -5.0612e-02, -1.0985e-02,  3.4565e-02,\n",
      "         1.9508e+00,  1.1516e-03,  2.7819e-02,  1.1516e-03,  1.9621e+00,\n",
      "        -2.3481e-03,  2.7819e-02, -2.3481e-03,  1.8698e+00,  1.0269e+00,\n",
      "         1.9857e-03,  5.2375e-03,  1.9857e-03,  1.0354e+00, -1.6861e-03,\n",
      "         5.2375e-03, -1.6861e-03,  1.0312e+00,  1.0304e+00,  6.4639e-05,\n",
      "        -2.3202e-04,  6.4639e-05,  1.0304e+00,  1.0593e-03, -2.3202e-04,\n",
      "         1.0593e-03,  1.0276e+00,  1.0728e+00,  7.3447e-04,  6.2686e-04,\n",
      "         7.3447e-04,  1.0669e+00, -6.5710e-03,  6.2686e-04, -6.5710e-03,\n",
      "         1.0672e+00,  1.9469e+00,  2.4045e-02,  5.7051e-02,  2.4045e-02,\n",
      "         1.9897e+00, -4.2567e-02,  5.7051e-02, -4.2567e-02,  1.8635e+00,\n",
      "         1.1096e+00, -2.2353e-03,  1.7189e-03, -2.2353e-03,  1.0991e+00,\n",
      "         1.0100e-02,  1.7189e-03,  1.0100e-02,  1.1016e+00,  1.9695e+00,\n",
      "        -2.9937e-04,  2.2652e-02, -2.9937e-04,  1.9976e+00,  2.0166e-02,\n",
      "         2.2652e-02,  2.0166e-02,  1.8207e+00,  1.2518e+00, -8.2136e-03,\n",
      "         1.7436e-02, -8.2136e-03,  1.2331e+00,  5.4048e-02,  1.7436e-02,\n",
      "         5.4048e-02,  1.1377e+00,  1.2747e+00,  1.5161e-02, -1.5176e-02,\n",
      "         1.5161e-02,  1.1545e+00,  9.4856e-02, -1.5176e-02,  9.4856e-02,\n",
      "         1.2090e+00,  1.3010e+00,  2.2161e-02,  4.7628e-02,  2.2161e-02,\n",
      "         1.2936e+00, -6.0881e-02,  4.7628e-02, -6.0881e-02,  1.1802e+00,\n",
      "         1.2848e+00,  3.6087e-03, -1.1739e-02,  3.6087e-03,  1.1993e+00,\n",
      "        -9.4782e-02, -1.1739e-02, -9.4782e-02,  1.1904e+00,  8.1667e-01,\n",
      "        -1.7984e-02, -1.3935e-02,  2.0745e-01, -4.5787e-03, -2.8207e-03,\n",
      "         6.0712e-01, -1.3842e-02, -6.3163e-03,  4.3586e-01, -9.7265e-03,\n",
      "        -4.2208e-03,  4.1732e-01, -1.0214e-02,  5.5535e-04,  4.3635e-01,\n",
      "        -1.0329e-02, -3.9151e-03,  4.1686e-01, -1.0698e-02, -6.1073e-04,\n",
      "         1.5257e-01, -3.2007e-03, -2.7348e-03,  1.1293e-01, -1.6638e-03,\n",
      "        -1.4779e-03,  1.5201e-01, -3.5315e-03, -2.6658e-03,  1.1245e-01,\n",
      "        -3.2731e-03, -1.2057e-03,  2.0721e-01,  7.9453e+00, -2.7830e-01,\n",
      "         8.0099e-01,  6.6664e+00, -4.9336e+00, -6.6530e-01, -9.0074e+00,\n",
      "        -6.8144e+00, -2.8657e-01, -8.5475e+00,  8.7668e+00, -1.5445e-01,\n",
      "        -5.6504e+00,  1.9997e+00, -7.9302e-01, -8.1287e+00, -8.7841e+00,\n",
      "        -2.2815e-01, -5.9310e+00, -5.9539e-01,  2.8298e-01,  7.5217e+00,\n",
      "         4.0360e+00,  3.0882e-01,  3.9738e+00,  5.9722e+00,  8.9988e-02,\n",
      "         6.8543e+00, -3.3408e+00, -4.7845e-02,  4.8998e+00, -5.1617e+00,\n",
      "         1.1535e-01,  1.1280e+00,  1.4282e+00,  1.9357e-01,  9.3280e-01,\n",
      "        -6.7945e-02,  2.5497e-01, -6.0396e-01,  3.2238e-01,  2.3028e-01,\n",
      "        -1.2804e+00, -4.6230e-01,  9.9734e-02,  9.8899e-01,  6.3276e-01,\n",
      "        -8.1982e-01, -6.8765e-01], device='cuda:0'), obs_var=tensor([1.3494e-02, 5.8551e-04, 5.7115e-03, 1.1575e-02, 4.7611e-03, 4.2968e-02,\n",
      "        7.7006e-01, 2.8610e-01, 5.6949e-01, 4.3416e-01, 6.7669e-02, 1.3290e-01,\n",
      "        2.2808e-01, 1.9579e-01, 2.6043e-01, 3.9667e-01, 2.1432e-02, 1.9038e-01,\n",
      "        2.5537e-02, 2.8095e-02, 1.7207e-01, 2.6061e-02, 3.3204e+00, 4.0397e-01,\n",
      "        1.7284e+00, 1.5732e+00, 5.0017e+00, 4.0167e+00, 2.3790e+01, 3.5835e+01,\n",
      "        3.9101e+01, 2.9112e+00, 2.8214e+00, 1.8048e+01, 2.0826e+01, 3.8211e+00,\n",
      "        4.7067e+00, 3.0761e+00, 4.3142e+00, 1.2985e+01, 2.6554e+01, 9.7382e+00,\n",
      "        1.3172e+01, 2.6048e+01, 9.3095e+00, 2.5566e-02, 1.9002e-05, 2.4811e-04,\n",
      "        1.9002e-05, 2.4741e-02, 1.0047e-04, 2.4811e-04, 1.0047e-04, 1.9123e-02,\n",
      "        5.6340e-05, 4.3416e-06, 9.0964e-06, 4.3416e-06, 1.9474e-04, 2.5171e-06,\n",
      "        9.0964e-06, 2.5171e-06, 2.2976e-04, 1.5747e-04, 2.8555e-07, 1.3784e-06,\n",
      "        2.8555e-07, 1.5562e-04, 9.1560e-07, 1.3784e-06, 9.1560e-07, 1.3002e-04,\n",
      "        5.3723e-04, 7.0069e-06, 6.9736e-06, 7.0069e-06, 4.8559e-04, 6.6258e-06,\n",
      "        6.9736e-06, 6.6258e-06, 4.3483e-04, 2.1090e-02, 5.9774e-04, 2.5837e-03,\n",
      "        5.9774e-04, 1.9392e-02, 4.7146e-04, 2.5837e-03, 4.7146e-04, 1.6747e-02,\n",
      "        1.3737e-03, 1.2947e-05, 1.0394e-05, 1.2947e-05, 1.2378e-03, 1.9600e-05,\n",
      "        1.0394e-05, 1.9600e-05, 1.0417e-03, 4.2611e-02, 1.5249e-04, 4.8520e-03,\n",
      "        1.5249e-04, 4.2381e-02, 5.8049e-04, 4.8520e-03, 5.8049e-04, 2.8784e-02,\n",
      "        2.5269e-03, 1.1849e-04, 4.2957e-04, 1.1849e-04, 2.2066e-03, 2.2543e-04,\n",
      "        4.2957e-04, 2.2543e-04, 7.6101e-04, 1.3661e-02, 1.5416e-03, 1.3218e-03,\n",
      "        1.5416e-03, 8.9943e-03, 2.8776e-03, 1.3218e-03, 2.8776e-03, 4.4310e-03,\n",
      "        2.2040e-03, 1.9691e-04, 5.7577e-04, 1.9691e-04, 2.1920e-03, 2.4822e-04,\n",
      "        5.7577e-04, 2.4822e-04, 8.6506e-04, 1.4469e-02, 2.4269e-03, 2.6465e-03,\n",
      "        2.4269e-03, 1.3716e-02, 2.2880e-03, 2.6465e-03, 2.2880e-03, 6.7129e-03,\n",
      "        1.4853e-01, 1.8071e-02, 7.7307e-02, 9.6484e-03, 1.0263e-03, 3.3217e-03,\n",
      "        8.0972e-02, 8.7083e-03, 2.4003e-02, 4.6860e-02, 6.4172e-03, 1.7343e-02,\n",
      "        6.5525e-02, 8.5072e-03, 2.2793e-02, 4.5695e-02, 6.3970e-03, 1.4494e-02,\n",
      "        8.9720e-02, 8.9425e-03, 1.9387e-02, 5.3665e-03, 7.3103e-04, 2.9300e-03,\n",
      "        3.2103e-03, 5.5537e-04, 1.9886e-03, 5.5182e-03, 7.2444e-04, 3.2301e-03,\n",
      "        3.2547e-03, 5.4855e-04, 2.4294e-03, 3.5139e+00, 1.3004e+01, 1.6677e+00,\n",
      "        1.5191e+01, 3.1367e+01, 2.1443e+01, 4.6953e+01, 1.3270e+01, 2.9449e+01,\n",
      "        4.1426e+01, 1.3446e+01, 1.0671e+01, 2.8151e+00, 1.4773e+01, 3.5176e+00,\n",
      "        3.0419e+01, 1.5226e+01, 9.4071e+00, 2.6882e+00, 1.4361e+01, 1.3087e+00,\n",
      "        3.7166e+00, 1.2269e+01, 4.5429e+00, 8.0532e+00, 6.6552e+00, 1.1007e+01,\n",
      "        4.2601e+00, 1.2722e+01, 4.3479e+00, 8.9139e+00, 1.0847e+01, 1.0829e+01,\n",
      "        9.8244e+01, 9.7231e+01, 9.6573e+01, 9.4972e+01, 9.4113e+01, 9.8256e+01,\n",
      "        9.8551e+01, 9.5102e+01, 9.5120e+01, 9.5291e+01, 9.3761e+01, 9.7986e+01,\n",
      "        9.8771e+01, 9.7199e+01, 9.7994e+01, 9.8028e+01, 9.7762e+01],\n",
      "       device='cuda:0')\n"
     ]
    },
    {
     "ename": "RuntimeError",
     "evalue": "CUDA error: CUBLAS_STATUS_NOT_INITIALIZED when calling `cublasCreate(handle)`",
     "output_type": "error",
     "traceback": [
      "\u001b[0;31m---------------------------------------------------------------------------\u001b[0m",
      "\u001b[0;31mRuntimeError\u001b[0m                              Traceback (most recent call last)",
      "Cell \u001b[0;32mIn[9], line 2\u001b[0m\n\u001b[1;32m      1\u001b[0m agent \u001b[38;5;241m=\u001b[39m get_best_elite()\n\u001b[0;32m----> 2\u001b[0m \u001b[43menjoy_brax\u001b[49m\u001b[43m(\u001b[49m\u001b[43magent\u001b[49m\u001b[43m,\u001b[49m\u001b[43m \u001b[49m\u001b[43mrender\u001b[49m\u001b[38;5;241;43m=\u001b[39;49m\u001b[38;5;28;43;01mTrue\u001b[39;49;00m\u001b[43m,\u001b[49m\u001b[43m \u001b[49m\u001b[43mdeterministic\u001b[49m\u001b[38;5;241;43m=\u001b[39;49m\u001b[38;5;28;43;01mTrue\u001b[39;49;00m\u001b[43m)\u001b[49m\n",
      "Cell \u001b[0;32mIn[8], line 18\u001b[0m, in \u001b[0;36menjoy_brax\u001b[0;34m(agent, render, deterministic)\u001b[0m\n\u001b[1;32m     15\u001b[0m     obs \u001b[38;5;241m=\u001b[39m (obs \u001b[38;5;241m-\u001b[39m obs_mean) \u001b[38;5;241m/\u001b[39m torch\u001b[38;5;241m.\u001b[39msqrt(obs_var \u001b[38;5;241m+\u001b[39m \u001b[38;5;241m1e-8\u001b[39m)\n\u001b[1;32m     17\u001b[0m \u001b[38;5;28;01mif\u001b[39;00m deterministic:\n\u001b[0;32m---> 18\u001b[0m     act \u001b[38;5;241m=\u001b[39m \u001b[43magent\u001b[49m\u001b[38;5;241;43m.\u001b[39;49m\u001b[43mactor_mean\u001b[49m\u001b[43m(\u001b[49m\u001b[43mobs\u001b[49m\u001b[43m)\u001b[49m\n\u001b[1;32m     19\u001b[0m \u001b[38;5;28;01melse\u001b[39;00m:\n\u001b[1;32m     20\u001b[0m     act, _, _ \u001b[38;5;241m=\u001b[39m agent\u001b[38;5;241m.\u001b[39mget_action(obs)\n",
      "File \u001b[0;32m~/miniconda3/envs/ppga/lib/python3.9/site-packages/torch/nn/modules/module.py:1190\u001b[0m, in \u001b[0;36mModule._call_impl\u001b[0;34m(self, *input, **kwargs)\u001b[0m\n\u001b[1;32m   1186\u001b[0m \u001b[38;5;66;03m# If we don't have any hooks, we want to skip the rest of the logic in\u001b[39;00m\n\u001b[1;32m   1187\u001b[0m \u001b[38;5;66;03m# this function, and just call forward.\u001b[39;00m\n\u001b[1;32m   1188\u001b[0m \u001b[38;5;28;01mif\u001b[39;00m \u001b[38;5;129;01mnot\u001b[39;00m (\u001b[38;5;28mself\u001b[39m\u001b[38;5;241m.\u001b[39m_backward_hooks \u001b[38;5;129;01mor\u001b[39;00m \u001b[38;5;28mself\u001b[39m\u001b[38;5;241m.\u001b[39m_forward_hooks \u001b[38;5;129;01mor\u001b[39;00m \u001b[38;5;28mself\u001b[39m\u001b[38;5;241m.\u001b[39m_forward_pre_hooks \u001b[38;5;129;01mor\u001b[39;00m _global_backward_hooks\n\u001b[1;32m   1189\u001b[0m         \u001b[38;5;129;01mor\u001b[39;00m _global_forward_hooks \u001b[38;5;129;01mor\u001b[39;00m _global_forward_pre_hooks):\n\u001b[0;32m-> 1190\u001b[0m     \u001b[38;5;28;01mreturn\u001b[39;00m \u001b[43mforward_call\u001b[49m\u001b[43m(\u001b[49m\u001b[38;5;241;43m*\u001b[39;49m\u001b[38;5;28;43minput\u001b[39;49m\u001b[43m,\u001b[49m\u001b[43m \u001b[49m\u001b[38;5;241;43m*\u001b[39;49m\u001b[38;5;241;43m*\u001b[39;49m\u001b[43mkwargs\u001b[49m\u001b[43m)\u001b[49m\n\u001b[1;32m   1191\u001b[0m \u001b[38;5;66;03m# Do not call functions when jit is used\u001b[39;00m\n\u001b[1;32m   1192\u001b[0m full_backward_hooks, non_full_backward_hooks \u001b[38;5;241m=\u001b[39m [], []\n",
      "File \u001b[0;32m~/miniconda3/envs/ppga/lib/python3.9/site-packages/torch/nn/modules/container.py:204\u001b[0m, in \u001b[0;36mSequential.forward\u001b[0;34m(self, input)\u001b[0m\n\u001b[1;32m    202\u001b[0m \u001b[38;5;28;01mdef\u001b[39;00m \u001b[38;5;21mforward\u001b[39m(\u001b[38;5;28mself\u001b[39m, \u001b[38;5;28minput\u001b[39m):\n\u001b[1;32m    203\u001b[0m     \u001b[38;5;28;01mfor\u001b[39;00m module \u001b[38;5;129;01min\u001b[39;00m \u001b[38;5;28mself\u001b[39m:\n\u001b[0;32m--> 204\u001b[0m         \u001b[38;5;28minput\u001b[39m \u001b[38;5;241m=\u001b[39m \u001b[43mmodule\u001b[49m\u001b[43m(\u001b[49m\u001b[38;5;28;43minput\u001b[39;49m\u001b[43m)\u001b[49m\n\u001b[1;32m    205\u001b[0m     \u001b[38;5;28;01mreturn\u001b[39;00m \u001b[38;5;28minput\u001b[39m\n",
      "File \u001b[0;32m~/miniconda3/envs/ppga/lib/python3.9/site-packages/torch/nn/modules/module.py:1190\u001b[0m, in \u001b[0;36mModule._call_impl\u001b[0;34m(self, *input, **kwargs)\u001b[0m\n\u001b[1;32m   1186\u001b[0m \u001b[38;5;66;03m# If we don't have any hooks, we want to skip the rest of the logic in\u001b[39;00m\n\u001b[1;32m   1187\u001b[0m \u001b[38;5;66;03m# this function, and just call forward.\u001b[39;00m\n\u001b[1;32m   1188\u001b[0m \u001b[38;5;28;01mif\u001b[39;00m \u001b[38;5;129;01mnot\u001b[39;00m (\u001b[38;5;28mself\u001b[39m\u001b[38;5;241m.\u001b[39m_backward_hooks \u001b[38;5;129;01mor\u001b[39;00m \u001b[38;5;28mself\u001b[39m\u001b[38;5;241m.\u001b[39m_forward_hooks \u001b[38;5;129;01mor\u001b[39;00m \u001b[38;5;28mself\u001b[39m\u001b[38;5;241m.\u001b[39m_forward_pre_hooks \u001b[38;5;129;01mor\u001b[39;00m _global_backward_hooks\n\u001b[1;32m   1189\u001b[0m         \u001b[38;5;129;01mor\u001b[39;00m _global_forward_hooks \u001b[38;5;129;01mor\u001b[39;00m _global_forward_pre_hooks):\n\u001b[0;32m-> 1190\u001b[0m     \u001b[38;5;28;01mreturn\u001b[39;00m \u001b[43mforward_call\u001b[49m\u001b[43m(\u001b[49m\u001b[38;5;241;43m*\u001b[39;49m\u001b[38;5;28;43minput\u001b[39;49m\u001b[43m,\u001b[49m\u001b[43m \u001b[49m\u001b[38;5;241;43m*\u001b[39;49m\u001b[38;5;241;43m*\u001b[39;49m\u001b[43mkwargs\u001b[49m\u001b[43m)\u001b[49m\n\u001b[1;32m   1191\u001b[0m \u001b[38;5;66;03m# Do not call functions when jit is used\u001b[39;00m\n\u001b[1;32m   1192\u001b[0m full_backward_hooks, non_full_backward_hooks \u001b[38;5;241m=\u001b[39m [], []\n",
      "File \u001b[0;32m~/miniconda3/envs/ppga/lib/python3.9/site-packages/torch/nn/modules/linear.py:114\u001b[0m, in \u001b[0;36mLinear.forward\u001b[0;34m(self, input)\u001b[0m\n\u001b[1;32m    113\u001b[0m \u001b[38;5;28;01mdef\u001b[39;00m \u001b[38;5;21mforward\u001b[39m(\u001b[38;5;28mself\u001b[39m, \u001b[38;5;28minput\u001b[39m: Tensor) \u001b[38;5;241m-\u001b[39m\u001b[38;5;241m>\u001b[39m Tensor:\n\u001b[0;32m--> 114\u001b[0m     \u001b[38;5;28;01mreturn\u001b[39;00m \u001b[43mF\u001b[49m\u001b[38;5;241;43m.\u001b[39;49m\u001b[43mlinear\u001b[49m\u001b[43m(\u001b[49m\u001b[38;5;28;43minput\u001b[39;49m\u001b[43m,\u001b[49m\u001b[43m \u001b[49m\u001b[38;5;28;43mself\u001b[39;49m\u001b[38;5;241;43m.\u001b[39;49m\u001b[43mweight\u001b[49m\u001b[43m,\u001b[49m\u001b[43m \u001b[49m\u001b[38;5;28;43mself\u001b[39;49m\u001b[38;5;241;43m.\u001b[39;49m\u001b[43mbias\u001b[49m\u001b[43m)\u001b[49m\n",
      "\u001b[0;31mRuntimeError\u001b[0m: CUDA error: CUBLAS_STATUS_NOT_INITIALIZED when calling `cublasCreate(handle)`"
     ]
    }
   ],
   "source": [
    "agent = get_best_elite()\n",
    "enjoy_brax(agent, render=True, deterministic=True)"
   ]
  },
  {
   "cell_type": "code",
   "execution_count": null,
   "metadata": {
    "ExecuteTime": {
     "end_time": "2023-04-18T10:26:41.871810Z",
     "start_time": "2023-04-18T10:26:41.385638Z"
    },
    "collapsed": false
   },
   "outputs": [],
   "source": []
  }
 ],
 "metadata": {
  "kernelspec": {
   "display_name": "Python 3",
   "language": "python",
   "name": "python3"
  },
  "language_info": {
   "codemirror_mode": {
    "name": "ipython",
    "version": 3
   },
   "file_extension": ".py",
   "mimetype": "text/x-python",
   "name": "python",
   "nbconvert_exporter": "python",
   "pygments_lexer": "ipython3",
   "version": "3.9.16"
  }
 },
 "nbformat": 4,
 "nbformat_minor": 0
}
